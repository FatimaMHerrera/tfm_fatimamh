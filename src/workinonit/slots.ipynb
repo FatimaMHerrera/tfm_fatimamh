{
 "cells": [
  {
   "cell_type": "code",
   "execution_count": 3,
   "metadata": {},
   "outputs": [],
   "source": [
    "class PuntoSinSlots:\n",
    "    def __init__(self, x, y):\n",
    "        self.x = x\n",
    "        self.y = y\n",
    "\n",
    "# Creando una instancia\n",
    "punto1 = PuntoSinSlots(1, 2)\n",
    "\n",
    "# Agregando un nuevo atributo dinámicamente\n",
    "punto1.z = 3"
   ]
  },
  {
   "cell_type": "code",
   "execution_count": 4,
   "metadata": {},
   "outputs": [
    {
     "name": "stdout",
     "output_type": "stream",
     "text": [
      "Error: 'PuntoConSlots' object has no attribute 'z'\n"
     ]
    }
   ],
   "source": [
    "class PuntoConSlots:\n",
    "    __slots__ = ['x', 'y']\n",
    "\n",
    "    def __init__(self, x, y):\n",
    "        self.x = x\n",
    "        self.y = y\n",
    "\n",
    "# Creando una instancia\n",
    "punto2 = PuntoConSlots(1, 2)\n",
    "\n",
    "# Intentando agregar un nuevo atributo\n",
    "try:\n",
    "    punto2.z = 3\n",
    "except AttributeError as e:\n",
    "    print(f\"Error: {e}\")"
   ]
  },
  {
   "cell_type": "code",
   "execution_count": null,
   "metadata": {},
   "outputs": [],
   "source": []
  }
 ],
 "metadata": {
  "kernelspec": {
   "display_name": "Python 3",
   "language": "python",
   "name": "python3"
  },
  "language_info": {
   "codemirror_mode": {
    "name": "ipython",
    "version": 3
   },
   "file_extension": ".py",
   "mimetype": "text/x-python",
   "name": "python",
   "nbconvert_exporter": "python",
   "pygments_lexer": "ipython3",
   "version": "3.11.7"
  }
 },
 "nbformat": 4,
 "nbformat_minor": 2
}
